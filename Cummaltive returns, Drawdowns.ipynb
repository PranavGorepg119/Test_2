{
 "cells": [
  {
   "cell_type": "code",
   "execution_count": 1,
   "id": "6af34bac",
   "metadata": {},
   "outputs": [],
   "source": [
    "import yfinance as yf\n",
    "import pandas as pd\n",
    "import numpy as np\n",
    "import matplotlib.pyplot as plt"
   ]
  },
  {
   "cell_type": "code",
   "execution_count": 3,
   "id": "d2c3d5a0",
   "metadata": {},
   "outputs": [
    {
     "name": "stdout",
     "output_type": "stream",
     "text": [
      "[*********************100%***********************]  1 of 1 completed\n"
     ]
    }
   ],
   "source": [
    "apple = yf.download(\"AAPL\", start=\"1980-12-12\",end = \"2022-01-07\")"
   ]
  },
  {
   "cell_type": "code",
   "execution_count": 6,
   "id": "5452e618",
   "metadata": {},
   "outputs": [],
   "source": [
    "apple = apple.Close.to_frame() "
   ]
  },
  {
   "cell_type": "code",
   "execution_count": 7,
   "id": "eebaaa01",
   "metadata": {},
   "outputs": [
    {
     "data": {
      "text/html": [
       "<div>\n",
       "<style scoped>\n",
       "    .dataframe tbody tr th:only-of-type {\n",
       "        vertical-align: middle;\n",
       "    }\n",
       "\n",
       "    .dataframe tbody tr th {\n",
       "        vertical-align: top;\n",
       "    }\n",
       "\n",
       "    .dataframe thead th {\n",
       "        text-align: right;\n",
       "    }\n",
       "</style>\n",
       "<table border=\"1\" class=\"dataframe\">\n",
       "  <thead>\n",
       "    <tr style=\"text-align: right;\">\n",
       "      <th></th>\n",
       "      <th>Close</th>\n",
       "    </tr>\n",
       "    <tr>\n",
       "      <th>Date</th>\n",
       "      <th></th>\n",
       "    </tr>\n",
       "  </thead>\n",
       "  <tbody>\n",
       "    <tr>\n",
       "      <th>1980-12-12</th>\n",
       "      <td>0.128348</td>\n",
       "    </tr>\n",
       "    <tr>\n",
       "      <th>1980-12-15</th>\n",
       "      <td>0.121652</td>\n",
       "    </tr>\n",
       "    <tr>\n",
       "      <th>1980-12-16</th>\n",
       "      <td>0.112723</td>\n",
       "    </tr>\n",
       "    <tr>\n",
       "      <th>1980-12-17</th>\n",
       "      <td>0.115513</td>\n",
       "    </tr>\n",
       "    <tr>\n",
       "      <th>1980-12-18</th>\n",
       "      <td>0.118862</td>\n",
       "    </tr>\n",
       "    <tr>\n",
       "      <th>...</th>\n",
       "      <td>...</td>\n",
       "    </tr>\n",
       "    <tr>\n",
       "      <th>2021-12-31</th>\n",
       "      <td>177.570007</td>\n",
       "    </tr>\n",
       "    <tr>\n",
       "      <th>2022-01-03</th>\n",
       "      <td>182.009995</td>\n",
       "    </tr>\n",
       "    <tr>\n",
       "      <th>2022-01-04</th>\n",
       "      <td>179.699997</td>\n",
       "    </tr>\n",
       "    <tr>\n",
       "      <th>2022-01-05</th>\n",
       "      <td>174.919998</td>\n",
       "    </tr>\n",
       "    <tr>\n",
       "      <th>2022-01-06</th>\n",
       "      <td>172.000000</td>\n",
       "    </tr>\n",
       "  </tbody>\n",
       "</table>\n",
       "<p>10356 rows × 1 columns</p>\n",
       "</div>"
      ],
      "text/plain": [
       "                 Close\n",
       "Date                  \n",
       "1980-12-12    0.128348\n",
       "1980-12-15    0.121652\n",
       "1980-12-16    0.112723\n",
       "1980-12-17    0.115513\n",
       "1980-12-18    0.118862\n",
       "...                ...\n",
       "2021-12-31  177.570007\n",
       "2022-01-03  182.009995\n",
       "2022-01-04  179.699997\n",
       "2022-01-05  174.919998\n",
       "2022-01-06  172.000000\n",
       "\n",
       "[10356 rows x 1 columns]"
      ]
     },
     "execution_count": 7,
     "metadata": {},
     "output_type": "execute_result"
    }
   ],
   "source": [
    "apple"
   ]
  },
  {
   "cell_type": "code",
   "execution_count": 9,
   "id": "fa859f28",
   "metadata": {},
   "outputs": [],
   "source": [
    "apple['d_returns']= np.log(apple.div(apple.shift(1)))"
   ]
  },
  {
   "cell_type": "code",
   "execution_count": 10,
   "id": "cb851cf4",
   "metadata": {},
   "outputs": [
    {
     "data": {
      "text/html": [
       "<div>\n",
       "<style scoped>\n",
       "    .dataframe tbody tr th:only-of-type {\n",
       "        vertical-align: middle;\n",
       "    }\n",
       "\n",
       "    .dataframe tbody tr th {\n",
       "        vertical-align: top;\n",
       "    }\n",
       "\n",
       "    .dataframe thead th {\n",
       "        text-align: right;\n",
       "    }\n",
       "</style>\n",
       "<table border=\"1\" class=\"dataframe\">\n",
       "  <thead>\n",
       "    <tr style=\"text-align: right;\">\n",
       "      <th></th>\n",
       "      <th>Close</th>\n",
       "      <th>d_returns</th>\n",
       "    </tr>\n",
       "    <tr>\n",
       "      <th>Date</th>\n",
       "      <th></th>\n",
       "      <th></th>\n",
       "    </tr>\n",
       "  </thead>\n",
       "  <tbody>\n",
       "    <tr>\n",
       "      <th>1980-12-12</th>\n",
       "      <td>0.128348</td>\n",
       "      <td>NaN</td>\n",
       "    </tr>\n",
       "    <tr>\n",
       "      <th>1980-12-15</th>\n",
       "      <td>0.121652</td>\n",
       "      <td>-0.053581</td>\n",
       "    </tr>\n",
       "    <tr>\n",
       "      <th>1980-12-16</th>\n",
       "      <td>0.112723</td>\n",
       "      <td>-0.076231</td>\n",
       "    </tr>\n",
       "    <tr>\n",
       "      <th>1980-12-17</th>\n",
       "      <td>0.115513</td>\n",
       "      <td>0.024450</td>\n",
       "    </tr>\n",
       "    <tr>\n",
       "      <th>1980-12-18</th>\n",
       "      <td>0.118862</td>\n",
       "      <td>0.028580</td>\n",
       "    </tr>\n",
       "    <tr>\n",
       "      <th>...</th>\n",
       "      <td>...</td>\n",
       "      <td>...</td>\n",
       "    </tr>\n",
       "    <tr>\n",
       "      <th>2021-12-31</th>\n",
       "      <td>177.570007</td>\n",
       "      <td>-0.003542</td>\n",
       "    </tr>\n",
       "    <tr>\n",
       "      <th>2022-01-03</th>\n",
       "      <td>182.009995</td>\n",
       "      <td>0.024697</td>\n",
       "    </tr>\n",
       "    <tr>\n",
       "      <th>2022-01-04</th>\n",
       "      <td>179.699997</td>\n",
       "      <td>-0.012773</td>\n",
       "    </tr>\n",
       "    <tr>\n",
       "      <th>2022-01-05</th>\n",
       "      <td>174.919998</td>\n",
       "      <td>-0.026960</td>\n",
       "    </tr>\n",
       "    <tr>\n",
       "      <th>2022-01-06</th>\n",
       "      <td>172.000000</td>\n",
       "      <td>-0.016834</td>\n",
       "    </tr>\n",
       "  </tbody>\n",
       "</table>\n",
       "<p>10356 rows × 2 columns</p>\n",
       "</div>"
      ],
      "text/plain": [
       "                 Close  d_returns\n",
       "Date                             \n",
       "1980-12-12    0.128348        NaN\n",
       "1980-12-15    0.121652  -0.053581\n",
       "1980-12-16    0.112723  -0.076231\n",
       "1980-12-17    0.115513   0.024450\n",
       "1980-12-18    0.118862   0.028580\n",
       "...                ...        ...\n",
       "2021-12-31  177.570007  -0.003542\n",
       "2022-01-03  182.009995   0.024697\n",
       "2022-01-04  179.699997  -0.012773\n",
       "2022-01-05  174.919998  -0.026960\n",
       "2022-01-06  172.000000  -0.016834\n",
       "\n",
       "[10356 rows x 2 columns]"
      ]
     },
     "execution_count": 10,
     "metadata": {},
     "output_type": "execute_result"
    }
   ],
   "source": [
    "apple"
   ]
  },
  {
   "cell_type": "code",
   "execution_count": 11,
   "id": "35c0b8a8",
   "metadata": {},
   "outputs": [],
   "source": [
    "apple.dropna(inplace=True)"
   ]
  },
  {
   "cell_type": "code",
   "execution_count": 12,
   "id": "df4cac56",
   "metadata": {},
   "outputs": [
    {
     "data": {
      "text/html": [
       "<div>\n",
       "<style scoped>\n",
       "    .dataframe tbody tr th:only-of-type {\n",
       "        vertical-align: middle;\n",
       "    }\n",
       "\n",
       "    .dataframe tbody tr th {\n",
       "        vertical-align: top;\n",
       "    }\n",
       "\n",
       "    .dataframe thead th {\n",
       "        text-align: right;\n",
       "    }\n",
       "</style>\n",
       "<table border=\"1\" class=\"dataframe\">\n",
       "  <thead>\n",
       "    <tr style=\"text-align: right;\">\n",
       "      <th></th>\n",
       "      <th>Close</th>\n",
       "      <th>d_returns</th>\n",
       "    </tr>\n",
       "    <tr>\n",
       "      <th>Date</th>\n",
       "      <th></th>\n",
       "      <th></th>\n",
       "    </tr>\n",
       "  </thead>\n",
       "  <tbody>\n",
       "    <tr>\n",
       "      <th>1980-12-15</th>\n",
       "      <td>0.121652</td>\n",
       "      <td>-0.053581</td>\n",
       "    </tr>\n",
       "    <tr>\n",
       "      <th>1980-12-16</th>\n",
       "      <td>0.112723</td>\n",
       "      <td>-0.076231</td>\n",
       "    </tr>\n",
       "    <tr>\n",
       "      <th>1980-12-17</th>\n",
       "      <td>0.115513</td>\n",
       "      <td>0.024450</td>\n",
       "    </tr>\n",
       "    <tr>\n",
       "      <th>1980-12-18</th>\n",
       "      <td>0.118862</td>\n",
       "      <td>0.028580</td>\n",
       "    </tr>\n",
       "    <tr>\n",
       "      <th>1980-12-19</th>\n",
       "      <td>0.126116</td>\n",
       "      <td>0.059239</td>\n",
       "    </tr>\n",
       "    <tr>\n",
       "      <th>...</th>\n",
       "      <td>...</td>\n",
       "      <td>...</td>\n",
       "    </tr>\n",
       "    <tr>\n",
       "      <th>2021-12-31</th>\n",
       "      <td>177.570007</td>\n",
       "      <td>-0.003542</td>\n",
       "    </tr>\n",
       "    <tr>\n",
       "      <th>2022-01-03</th>\n",
       "      <td>182.009995</td>\n",
       "      <td>0.024697</td>\n",
       "    </tr>\n",
       "    <tr>\n",
       "      <th>2022-01-04</th>\n",
       "      <td>179.699997</td>\n",
       "      <td>-0.012773</td>\n",
       "    </tr>\n",
       "    <tr>\n",
       "      <th>2022-01-05</th>\n",
       "      <td>174.919998</td>\n",
       "      <td>-0.026960</td>\n",
       "    </tr>\n",
       "    <tr>\n",
       "      <th>2022-01-06</th>\n",
       "      <td>172.000000</td>\n",
       "      <td>-0.016834</td>\n",
       "    </tr>\n",
       "  </tbody>\n",
       "</table>\n",
       "<p>10355 rows × 2 columns</p>\n",
       "</div>"
      ],
      "text/plain": [
       "                 Close  d_returns\n",
       "Date                             \n",
       "1980-12-15    0.121652  -0.053581\n",
       "1980-12-16    0.112723  -0.076231\n",
       "1980-12-17    0.115513   0.024450\n",
       "1980-12-18    0.118862   0.028580\n",
       "1980-12-19    0.126116   0.059239\n",
       "...                ...        ...\n",
       "2021-12-31  177.570007  -0.003542\n",
       "2022-01-03  182.009995   0.024697\n",
       "2022-01-04  179.699997  -0.012773\n",
       "2022-01-05  174.919998  -0.026960\n",
       "2022-01-06  172.000000  -0.016834\n",
       "\n",
       "[10355 rows x 2 columns]"
      ]
     },
     "execution_count": 12,
     "metadata": {},
     "output_type": "execute_result"
    }
   ],
   "source": [
    "apple\n"
   ]
  },
  {
   "cell_type": "code",
   "execution_count": 13,
   "id": "d9eb28d6",
   "metadata": {},
   "outputs": [
    {
     "data": {
      "text/plain": [
       "7.200504486333217"
      ]
     },
     "execution_count": 13,
     "metadata": {},
     "output_type": "execute_result"
    }
   ],
   "source": [
    "apple.d_returns.sum()"
   ]
  },
  {
   "cell_type": "code",
   "execution_count": 14,
   "id": "70fe7206",
   "metadata": {},
   "outputs": [
    {
     "data": {
      "text/plain": [
       "1340.1066593849027"
      ]
     },
     "execution_count": 14,
     "metadata": {},
     "output_type": "execute_result"
    }
   ],
   "source": [
    "np.exp(apple.d_returns.sum())"
   ]
  },
  {
   "cell_type": "code",
   "execution_count": 15,
   "id": "b9ed2fd3",
   "metadata": {},
   "outputs": [],
   "source": [
    "apple['cummreturns']=apple.d_returns.cumsum().apply(np.exp)"
   ]
  },
  {
   "cell_type": "code",
   "execution_count": 16,
   "id": "fd41d3f8",
   "metadata": {},
   "outputs": [
    {
     "data": {
      "text/html": [
       "<div>\n",
       "<style scoped>\n",
       "    .dataframe tbody tr th:only-of-type {\n",
       "        vertical-align: middle;\n",
       "    }\n",
       "\n",
       "    .dataframe tbody tr th {\n",
       "        vertical-align: top;\n",
       "    }\n",
       "\n",
       "    .dataframe thead th {\n",
       "        text-align: right;\n",
       "    }\n",
       "</style>\n",
       "<table border=\"1\" class=\"dataframe\">\n",
       "  <thead>\n",
       "    <tr style=\"text-align: right;\">\n",
       "      <th></th>\n",
       "      <th>Close</th>\n",
       "      <th>d_returns</th>\n",
       "      <th>cummreturns</th>\n",
       "    </tr>\n",
       "    <tr>\n",
       "      <th>Date</th>\n",
       "      <th></th>\n",
       "      <th></th>\n",
       "      <th></th>\n",
       "    </tr>\n",
       "  </thead>\n",
       "  <tbody>\n",
       "    <tr>\n",
       "      <th>1980-12-15</th>\n",
       "      <td>0.121652</td>\n",
       "      <td>-0.053581</td>\n",
       "      <td>0.947829</td>\n",
       "    </tr>\n",
       "    <tr>\n",
       "      <th>1980-12-16</th>\n",
       "      <td>0.112723</td>\n",
       "      <td>-0.076231</td>\n",
       "      <td>0.878261</td>\n",
       "    </tr>\n",
       "    <tr>\n",
       "      <th>1980-12-17</th>\n",
       "      <td>0.115513</td>\n",
       "      <td>0.024450</td>\n",
       "      <td>0.899998</td>\n",
       "    </tr>\n",
       "    <tr>\n",
       "      <th>1980-12-18</th>\n",
       "      <td>0.118862</td>\n",
       "      <td>0.028580</td>\n",
       "      <td>0.926092</td>\n",
       "    </tr>\n",
       "    <tr>\n",
       "      <th>1980-12-19</th>\n",
       "      <td>0.126116</td>\n",
       "      <td>0.059239</td>\n",
       "      <td>0.982610</td>\n",
       "    </tr>\n",
       "    <tr>\n",
       "      <th>...</th>\n",
       "      <td>...</td>\n",
       "      <td>...</td>\n",
       "      <td>...</td>\n",
       "    </tr>\n",
       "    <tr>\n",
       "      <th>2021-12-31</th>\n",
       "      <td>177.570007</td>\n",
       "      <td>-0.003542</td>\n",
       "      <td>1383.504357</td>\n",
       "    </tr>\n",
       "    <tr>\n",
       "      <th>2022-01-03</th>\n",
       "      <td>182.009995</td>\n",
       "      <td>0.024697</td>\n",
       "      <td>1418.097708</td>\n",
       "    </tr>\n",
       "    <tr>\n",
       "      <th>2022-01-04</th>\n",
       "      <td>179.699997</td>\n",
       "      <td>-0.012773</td>\n",
       "      <td>1400.099783</td>\n",
       "    </tr>\n",
       "    <tr>\n",
       "      <th>2022-01-05</th>\n",
       "      <td>174.919998</td>\n",
       "      <td>-0.026960</td>\n",
       "      <td>1362.857293</td>\n",
       "    </tr>\n",
       "    <tr>\n",
       "      <th>2022-01-06</th>\n",
       "      <td>172.000000</td>\n",
       "      <td>-0.016834</td>\n",
       "      <td>1340.106659</td>\n",
       "    </tr>\n",
       "  </tbody>\n",
       "</table>\n",
       "<p>10355 rows × 3 columns</p>\n",
       "</div>"
      ],
      "text/plain": [
       "                 Close  d_returns  cummreturns\n",
       "Date                                          \n",
       "1980-12-15    0.121652  -0.053581     0.947829\n",
       "1980-12-16    0.112723  -0.076231     0.878261\n",
       "1980-12-17    0.115513   0.024450     0.899998\n",
       "1980-12-18    0.118862   0.028580     0.926092\n",
       "1980-12-19    0.126116   0.059239     0.982610\n",
       "...                ...        ...          ...\n",
       "2021-12-31  177.570007  -0.003542  1383.504357\n",
       "2022-01-03  182.009995   0.024697  1418.097708\n",
       "2022-01-04  179.699997  -0.012773  1400.099783\n",
       "2022-01-05  174.919998  -0.026960  1362.857293\n",
       "2022-01-06  172.000000  -0.016834  1340.106659\n",
       "\n",
       "[10355 rows x 3 columns]"
      ]
     },
     "execution_count": 16,
     "metadata": {},
     "output_type": "execute_result"
    }
   ],
   "source": [
    "apple"
   ]
  },
  {
   "cell_type": "code",
   "execution_count": 17,
   "id": "3559fef5",
   "metadata": {},
   "outputs": [
    {
     "data": {
      "image/png": "[encoded data removed]",
      "text/plain": [
       "<Figure size 864x576 with 1 Axes>"
      ]
     },
     "metadata": {
      "needs_background": "light"
     },
     "output_type": "display_data"
    }
   ],
   "source": [
    "apple.cummreturns.plot(figsize = (12,8), title = \"Apple buy and hold\",fontsize = 12)\n",
    "plt.show()"
   ]
  },
  {
   "cell_type": "code",
   "execution_count": 18,
   "id": "14d7f406",
   "metadata": {},
   "outputs": [
    {
     "data": {
      "text/plain": [
       "0.17523197784219977"
      ]
     },
     "execution_count": 18,
     "metadata": {},
     "output_type": "execute_result"
    }
   ],
   "source": [
    "apple.d_returns.mean()*252"
   ]
  },
  {
   "cell_type": "code",
   "execution_count": 19,
   "id": "86d0e776",
   "metadata": {},
   "outputs": [
    {
     "data": {
      "text/plain": [
       "0.4578906792664507"
      ]
     },
     "execution_count": 19,
     "metadata": {},
     "output_type": "execute_result"
    }
   ],
   "source": [
    "apple.d_returns.std()*np.sqrt(252)"
   ]
  },
  {
   "cell_type": "markdown",
   "id": "25608576",
   "metadata": {},
   "source": [
    "#### how to calculate drawdowns\n"
   ]
  },
  {
   "cell_type": "code",
   "execution_count": 20,
   "id": "b3a6c922",
   "metadata": {},
   "outputs": [],
   "source": [
    "apple[\"cummax\"] = apple.cummreturns.cummax()"
   ]
  },
  {
   "cell_type": "code",
   "execution_count": 21,
   "id": "eb4db219",
   "metadata": {},
   "outputs": [
    {
     "data": {
      "text/html": [
       "<div>\n",
       "<style scoped>\n",
       "    .dataframe tbody tr th:only-of-type {\n",
       "        vertical-align: middle;\n",
       "    }\n",
       "\n",
       "    .dataframe tbody tr th {\n",
       "        vertical-align: top;\n",
       "    }\n",
       "\n",
       "    .dataframe thead th {\n",
       "        text-align: right;\n",
       "    }\n",
       "</style>\n",
       "<table border=\"1\" class=\"dataframe\">\n",
       "  <thead>\n",
       "    <tr style=\"text-align: right;\">\n",
       "      <th></th>\n",
       "      <th>Close</th>\n",
       "      <th>d_returns</th>\n",
       "      <th>cummreturns</th>\n",
       "      <th>cummax</th>\n",
       "    </tr>\n",
       "    <tr>\n",
       "      <th>Date</th>\n",
       "      <th></th>\n",
       "      <th></th>\n",
       "      <th></th>\n",
       "      <th></th>\n",
       "    </tr>\n",
       "  </thead>\n",
       "  <tbody>\n",
       "    <tr>\n",
       "      <th>1980-12-15</th>\n",
       "      <td>0.121652</td>\n",
       "      <td>-0.053581</td>\n",
       "      <td>0.947829</td>\n",
       "      <td>0.947829</td>\n",
       "    </tr>\n",
       "    <tr>\n",
       "      <th>1980-12-16</th>\n",
       "      <td>0.112723</td>\n",
       "      <td>-0.076231</td>\n",
       "      <td>0.878261</td>\n",
       "      <td>0.947829</td>\n",
       "    </tr>\n",
       "    <tr>\n",
       "      <th>1980-12-17</th>\n",
       "      <td>0.115513</td>\n",
       "      <td>0.024450</td>\n",
       "      <td>0.899998</td>\n",
       "      <td>0.947829</td>\n",
       "    </tr>\n",
       "    <tr>\n",
       "      <th>1980-12-18</th>\n",
       "      <td>0.118862</td>\n",
       "      <td>0.028580</td>\n",
       "      <td>0.926092</td>\n",
       "      <td>0.947829</td>\n",
       "    </tr>\n",
       "    <tr>\n",
       "      <th>1980-12-19</th>\n",
       "      <td>0.126116</td>\n",
       "      <td>0.059239</td>\n",
       "      <td>0.982610</td>\n",
       "      <td>0.982610</td>\n",
       "    </tr>\n",
       "    <tr>\n",
       "      <th>...</th>\n",
       "      <td>...</td>\n",
       "      <td>...</td>\n",
       "      <td>...</td>\n",
       "      <td>...</td>\n",
       "    </tr>\n",
       "    <tr>\n",
       "      <th>2021-12-31</th>\n",
       "      <td>177.570007</td>\n",
       "      <td>-0.003542</td>\n",
       "      <td>1383.504357</td>\n",
       "      <td>1405.008351</td>\n",
       "    </tr>\n",
       "    <tr>\n",
       "      <th>2022-01-03</th>\n",
       "      <td>182.009995</td>\n",
       "      <td>0.024697</td>\n",
       "      <td>1418.097708</td>\n",
       "      <td>1418.097708</td>\n",
       "    </tr>\n",
       "    <tr>\n",
       "      <th>2022-01-04</th>\n",
       "      <td>179.699997</td>\n",
       "      <td>-0.012773</td>\n",
       "      <td>1400.099783</td>\n",
       "      <td>1418.097708</td>\n",
       "    </tr>\n",
       "    <tr>\n",
       "      <th>2022-01-05</th>\n",
       "      <td>174.919998</td>\n",
       "      <td>-0.026960</td>\n",
       "      <td>1362.857293</td>\n",
       "      <td>1418.097708</td>\n",
       "    </tr>\n",
       "    <tr>\n",
       "      <th>2022-01-06</th>\n",
       "      <td>172.000000</td>\n",
       "      <td>-0.016834</td>\n",
       "      <td>1340.106659</td>\n",
       "      <td>1418.097708</td>\n",
       "    </tr>\n",
       "  </tbody>\n",
       "</table>\n",
       "<p>10355 rows × 4 columns</p>\n",
       "</div>"
      ],
      "text/plain": [
       "                 Close  d_returns  cummreturns       cummax\n",
       "Date                                                       \n",
       "1980-12-15    0.121652  -0.053581     0.947829     0.947829\n",
       "1980-12-16    0.112723  -0.076231     0.878261     0.947829\n",
       "1980-12-17    0.115513   0.024450     0.899998     0.947829\n",
       "1980-12-18    0.118862   0.028580     0.926092     0.947829\n",
       "1980-12-19    0.126116   0.059239     0.982610     0.982610\n",
       "...                ...        ...          ...          ...\n",
       "2021-12-31  177.570007  -0.003542  1383.504357  1405.008351\n",
       "2022-01-03  182.009995   0.024697  1418.097708  1418.097708\n",
       "2022-01-04  179.699997  -0.012773  1400.099783  1418.097708\n",
       "2022-01-05  174.919998  -0.026960  1362.857293  1418.097708\n",
       "2022-01-06  172.000000  -0.016834  1340.106659  1418.097708\n",
       "\n",
       "[10355 rows x 4 columns]"
      ]
     },
     "execution_count": 21,
     "metadata": {},
     "output_type": "execute_result"
    }
   ],
   "source": [
    "apple"
   ]
  },
  {
   "cell_type": "code",
   "execution_count": 22,
   "id": "37ee6d74",
   "metadata": {},
   "outputs": [
    {
     "data": {
      "image/png": "[encoded data removed]",
      "text/plain": [
       "<Figure size 864x576 with 1 Axes>"
      ]
     },
     "metadata": {
      "needs_background": "light"
     },
     "output_type": "display_data"
    }
   ],
   "source": [
    "apple[[\"cummreturns\",\"cummax\"]].plot(figsize = (12,8), title = \"Apple buy and hold\",fontsize = 12)\n",
    "plt.show()"
   ]
  },
  {
   "cell_type": "code",
   "execution_count": 23,
   "id": "f3a94f1b",
   "metadata": {},
   "outputs": [],
   "source": [
    "apple['drawdown'] = apple[\"cummax\"]-apple['cummreturns']"
   ]
  },
  {
   "cell_type": "code",
   "execution_count": 24,
   "id": "c43aa27e",
   "metadata": {},
   "outputs": [
    {
     "data": {
      "text/html": [
       "<div>\n",
       "<style scoped>\n",
       "    .dataframe tbody tr th:only-of-type {\n",
       "        vertical-align: middle;\n",
       "    }\n",
       "\n",
       "    .dataframe tbody tr th {\n",
       "        vertical-align: top;\n",
       "    }\n",
       "\n",
       "    .dataframe thead th {\n",
       "        text-align: right;\n",
       "    }\n",
       "</style>\n",
       "<table border=\"1\" class=\"dataframe\">\n",
       "  <thead>\n",
       "    <tr style=\"text-align: right;\">\n",
       "      <th></th>\n",
       "      <th>Close</th>\n",
       "      <th>d_returns</th>\n",
       "      <th>cummreturns</th>\n",
       "      <th>cummax</th>\n",
       "      <th>drawdown</th>\n",
       "    </tr>\n",
       "    <tr>\n",
       "      <th>Date</th>\n",
       "      <th></th>\n",
       "      <th></th>\n",
       "      <th></th>\n",
       "      <th></th>\n",
       "      <th></th>\n",
       "    </tr>\n",
       "  </thead>\n",
       "  <tbody>\n",
       "    <tr>\n",
       "      <th>1980-12-15</th>\n",
       "      <td>0.121652</td>\n",
       "      <td>-0.053581</td>\n",
       "      <td>0.947829</td>\n",
       "      <td>0.947829</td>\n",
       "      <td>0.000000</td>\n",
       "    </tr>\n",
       "    <tr>\n",
       "      <th>1980-12-16</th>\n",
       "      <td>0.112723</td>\n",
       "      <td>-0.076231</td>\n",
       "      <td>0.878261</td>\n",
       "      <td>0.947829</td>\n",
       "      <td>0.069569</td>\n",
       "    </tr>\n",
       "    <tr>\n",
       "      <th>1980-12-17</th>\n",
       "      <td>0.115513</td>\n",
       "      <td>0.024450</td>\n",
       "      <td>0.899998</td>\n",
       "      <td>0.947829</td>\n",
       "      <td>0.047831</td>\n",
       "    </tr>\n",
       "    <tr>\n",
       "      <th>1980-12-18</th>\n",
       "      <td>0.118862</td>\n",
       "      <td>0.028580</td>\n",
       "      <td>0.926092</td>\n",
       "      <td>0.947829</td>\n",
       "      <td>0.021738</td>\n",
       "    </tr>\n",
       "    <tr>\n",
       "      <th>1980-12-19</th>\n",
       "      <td>0.126116</td>\n",
       "      <td>0.059239</td>\n",
       "      <td>0.982610</td>\n",
       "      <td>0.982610</td>\n",
       "      <td>0.000000</td>\n",
       "    </tr>\n",
       "    <tr>\n",
       "      <th>...</th>\n",
       "      <td>...</td>\n",
       "      <td>...</td>\n",
       "      <td>...</td>\n",
       "      <td>...</td>\n",
       "      <td>...</td>\n",
       "    </tr>\n",
       "    <tr>\n",
       "      <th>2021-12-31</th>\n",
       "      <td>177.570007</td>\n",
       "      <td>-0.003542</td>\n",
       "      <td>1383.504357</td>\n",
       "      <td>1405.008351</td>\n",
       "      <td>21.503994</td>\n",
       "    </tr>\n",
       "    <tr>\n",
       "      <th>2022-01-03</th>\n",
       "      <td>182.009995</td>\n",
       "      <td>0.024697</td>\n",
       "      <td>1418.097708</td>\n",
       "      <td>1418.097708</td>\n",
       "      <td>0.000000</td>\n",
       "    </tr>\n",
       "    <tr>\n",
       "      <th>2022-01-04</th>\n",
       "      <td>179.699997</td>\n",
       "      <td>-0.012773</td>\n",
       "      <td>1400.099783</td>\n",
       "      <td>1418.097708</td>\n",
       "      <td>17.997925</td>\n",
       "    </tr>\n",
       "    <tr>\n",
       "      <th>2022-01-05</th>\n",
       "      <td>174.919998</td>\n",
       "      <td>-0.026960</td>\n",
       "      <td>1362.857293</td>\n",
       "      <td>1418.097708</td>\n",
       "      <td>55.240415</td>\n",
       "    </tr>\n",
       "    <tr>\n",
       "      <th>2022-01-06</th>\n",
       "      <td>172.000000</td>\n",
       "      <td>-0.016834</td>\n",
       "      <td>1340.106659</td>\n",
       "      <td>1418.097708</td>\n",
       "      <td>77.991048</td>\n",
       "    </tr>\n",
       "  </tbody>\n",
       "</table>\n",
       "<p>10355 rows × 5 columns</p>\n",
       "</div>"
      ],
      "text/plain": [
       "                 Close  d_returns  cummreturns       cummax   drawdown\n",
       "Date                                                                  \n",
       "1980-12-15    0.121652  -0.053581     0.947829     0.947829   0.000000\n",
       "1980-12-16    0.112723  -0.076231     0.878261     0.947829   0.069569\n",
       "1980-12-17    0.115513   0.024450     0.899998     0.947829   0.047831\n",
       "1980-12-18    0.118862   0.028580     0.926092     0.947829   0.021738\n",
       "1980-12-19    0.126116   0.059239     0.982610     0.982610   0.000000\n",
       "...                ...        ...          ...          ...        ...\n",
       "2021-12-31  177.570007  -0.003542  1383.504357  1405.008351  21.503994\n",
       "2022-01-03  182.009995   0.024697  1418.097708  1418.097708   0.000000\n",
       "2022-01-04  179.699997  -0.012773  1400.099783  1418.097708  17.997925\n",
       "2022-01-05  174.919998  -0.026960  1362.857293  1418.097708  55.240415\n",
       "2022-01-06  172.000000  -0.016834  1340.106659  1418.097708  77.991048\n",
       "\n",
       "[10355 rows x 5 columns]"
      ]
     },
     "execution_count": 24,
     "metadata": {},
     "output_type": "execute_result"
    }
   ],
   "source": [
    "apple"
   ]
  },
  {
   "cell_type": "code",
   "execution_count": 25,
   "id": "52cd2689",
   "metadata": {},
   "outputs": [
    {
     "data": {
      "text/plain": [
       "213.01459976724834"
      ]
     },
     "execution_count": 25,
     "metadata": {},
     "output_type": "execute_result"
    }
   ],
   "source": [
    "apple.drawdown.max()"
   ]
  },
  {
   "cell_type": "code",
   "execution_count": 26,
   "id": "a29926e2",
   "metadata": {},
   "outputs": [
    {
     "data": {
      "text/plain": [
       "Timestamp('2020-09-18 00:00:00')"
      ]
     },
     "execution_count": 26,
     "metadata": {},
     "output_type": "execute_result"
    }
   ],
   "source": [
    "apple.drawdown.idxmax()"
   ]
  },
  {
   "cell_type": "code",
   "execution_count": 27,
   "id": "009d4d84",
   "metadata": {},
   "outputs": [
    {
     "data": {
      "text/html": [
       "<div>\n",
       "<style scoped>\n",
       "    .dataframe tbody tr th:only-of-type {\n",
       "        vertical-align: middle;\n",
       "    }\n",
       "\n",
       "    .dataframe tbody tr th {\n",
       "        vertical-align: top;\n",
       "    }\n",
       "\n",
       "    .dataframe thead th {\n",
       "        text-align: right;\n",
       "    }\n",
       "</style>\n",
       "<table border=\"1\" class=\"dataframe\">\n",
       "  <thead>\n",
       "    <tr style=\"text-align: right;\">\n",
       "      <th></th>\n",
       "      <th>Close</th>\n",
       "      <th>d_returns</th>\n",
       "      <th>cummreturns</th>\n",
       "      <th>cummax</th>\n",
       "      <th>drawdown</th>\n",
       "    </tr>\n",
       "    <tr>\n",
       "      <th>Date</th>\n",
       "      <th></th>\n",
       "      <th></th>\n",
       "      <th></th>\n",
       "      <th></th>\n",
       "      <th></th>\n",
       "    </tr>\n",
       "  </thead>\n",
       "  <tbody>\n",
       "    <tr>\n",
       "      <th>2020-09-18</th>\n",
       "      <td>106.839996</td>\n",
       "      <td>-0.032234</td>\n",
       "      <td>832.424364</td>\n",
       "      <td>1045.438964</td>\n",
       "      <td>213.0146</td>\n",
       "    </tr>\n",
       "  </tbody>\n",
       "</table>\n",
       "</div>"
      ],
      "text/plain": [
       "                 Close  d_returns  cummreturns       cummax  drawdown\n",
       "Date                                                                 \n",
       "2020-09-18  106.839996  -0.032234   832.424364  1045.438964  213.0146"
      ]
     },
     "execution_count": 27,
     "metadata": {},
     "output_type": "execute_result"
    }
   ],
   "source": [
    "apple.loc[(apple.index == '2020-09-18 00:00:00' )]"
   ]
  },
  {
   "cell_type": "code",
   "execution_count": 28,
   "id": "35fee9b3",
   "metadata": {},
   "outputs": [],
   "source": [
    "apple[\"drawdown%\"] = (apple[\"cummax\"]-apple['cummreturns'])/apple[\"cummax\"]"
   ]
  },
  {
   "cell_type": "code",
   "execution_count": 29,
   "id": "a5c6d700",
   "metadata": {},
   "outputs": [
    {
     "data": {
      "text/html": [
       "<div>\n",
       "<style scoped>\n",
       "    .dataframe tbody tr th:only-of-type {\n",
       "        vertical-align: middle;\n",
       "    }\n",
       "\n",
       "    .dataframe tbody tr th {\n",
       "        vertical-align: top;\n",
       "    }\n",
       "\n",
       "    .dataframe thead th {\n",
       "        text-align: right;\n",
       "    }\n",
       "</style>\n",
       "<table border=\"1\" class=\"dataframe\">\n",
       "  <thead>\n",
       "    <tr style=\"text-align: right;\">\n",
       "      <th></th>\n",
       "      <th>Close</th>\n",
       "      <th>d_returns</th>\n",
       "      <th>cummreturns</th>\n",
       "      <th>cummax</th>\n",
       "      <th>drawdown</th>\n",
       "      <th>drawdown%</th>\n",
       "    </tr>\n",
       "    <tr>\n",
       "      <th>Date</th>\n",
       "      <th></th>\n",
       "      <th></th>\n",
       "      <th></th>\n",
       "      <th></th>\n",
       "      <th></th>\n",
       "      <th></th>\n",
       "    </tr>\n",
       "  </thead>\n",
       "  <tbody>\n",
       "    <tr>\n",
       "      <th>1980-12-15</th>\n",
       "      <td>0.121652</td>\n",
       "      <td>-0.053581</td>\n",
       "      <td>0.947829</td>\n",
       "      <td>0.947829</td>\n",
       "      <td>0.000000</td>\n",
       "      <td>0.000000</td>\n",
       "    </tr>\n",
       "    <tr>\n",
       "      <th>1980-12-16</th>\n",
       "      <td>0.112723</td>\n",
       "      <td>-0.076231</td>\n",
       "      <td>0.878261</td>\n",
       "      <td>0.947829</td>\n",
       "      <td>0.069569</td>\n",
       "      <td>0.073398</td>\n",
       "    </tr>\n",
       "    <tr>\n",
       "      <th>1980-12-17</th>\n",
       "      <td>0.115513</td>\n",
       "      <td>0.024450</td>\n",
       "      <td>0.899998</td>\n",
       "      <td>0.947829</td>\n",
       "      <td>0.047831</td>\n",
       "      <td>0.050464</td>\n",
       "    </tr>\n",
       "    <tr>\n",
       "      <th>1980-12-18</th>\n",
       "      <td>0.118862</td>\n",
       "      <td>0.028580</td>\n",
       "      <td>0.926092</td>\n",
       "      <td>0.947829</td>\n",
       "      <td>0.021738</td>\n",
       "      <td>0.022934</td>\n",
       "    </tr>\n",
       "    <tr>\n",
       "      <th>1980-12-19</th>\n",
       "      <td>0.126116</td>\n",
       "      <td>0.059239</td>\n",
       "      <td>0.982610</td>\n",
       "      <td>0.982610</td>\n",
       "      <td>0.000000</td>\n",
       "      <td>0.000000</td>\n",
       "    </tr>\n",
       "    <tr>\n",
       "      <th>...</th>\n",
       "      <td>...</td>\n",
       "      <td>...</td>\n",
       "      <td>...</td>\n",
       "      <td>...</td>\n",
       "      <td>...</td>\n",
       "      <td>...</td>\n",
       "    </tr>\n",
       "    <tr>\n",
       "      <th>2021-12-31</th>\n",
       "      <td>177.570007</td>\n",
       "      <td>-0.003542</td>\n",
       "      <td>1383.504357</td>\n",
       "      <td>1405.008351</td>\n",
       "      <td>21.503994</td>\n",
       "      <td>0.015305</td>\n",
       "    </tr>\n",
       "    <tr>\n",
       "      <th>2022-01-03</th>\n",
       "      <td>182.009995</td>\n",
       "      <td>0.024697</td>\n",
       "      <td>1418.097708</td>\n",
       "      <td>1418.097708</td>\n",
       "      <td>0.000000</td>\n",
       "      <td>0.000000</td>\n",
       "    </tr>\n",
       "    <tr>\n",
       "      <th>2022-01-04</th>\n",
       "      <td>179.699997</td>\n",
       "      <td>-0.012773</td>\n",
       "      <td>1400.099783</td>\n",
       "      <td>1418.097708</td>\n",
       "      <td>17.997925</td>\n",
       "      <td>0.012692</td>\n",
       "    </tr>\n",
       "    <tr>\n",
       "      <th>2022-01-05</th>\n",
       "      <td>174.919998</td>\n",
       "      <td>-0.026960</td>\n",
       "      <td>1362.857293</td>\n",
       "      <td>1418.097708</td>\n",
       "      <td>55.240415</td>\n",
       "      <td>0.038954</td>\n",
       "    </tr>\n",
       "    <tr>\n",
       "      <th>2022-01-06</th>\n",
       "      <td>172.000000</td>\n",
       "      <td>-0.016834</td>\n",
       "      <td>1340.106659</td>\n",
       "      <td>1418.097708</td>\n",
       "      <td>77.991048</td>\n",
       "      <td>0.054997</td>\n",
       "    </tr>\n",
       "  </tbody>\n",
       "</table>\n",
       "<p>10355 rows × 6 columns</p>\n",
       "</div>"
      ],
      "text/plain": [
       "                 Close  d_returns  cummreturns       cummax   drawdown  \\\n",
       "Date                                                                     \n",
       "1980-12-15    0.121652  -0.053581     0.947829     0.947829   0.000000   \n",
       "1980-12-16    0.112723  -0.076231     0.878261     0.947829   0.069569   \n",
       "1980-12-17    0.115513   0.024450     0.899998     0.947829   0.047831   \n",
       "1980-12-18    0.118862   0.028580     0.926092     0.947829   0.021738   \n",
       "1980-12-19    0.126116   0.059239     0.982610     0.982610   0.000000   \n",
       "...                ...        ...          ...          ...        ...   \n",
       "2021-12-31  177.570007  -0.003542  1383.504357  1405.008351  21.503994   \n",
       "2022-01-03  182.009995   0.024697  1418.097708  1418.097708   0.000000   \n",
       "2022-01-04  179.699997  -0.012773  1400.099783  1418.097708  17.997925   \n",
       "2022-01-05  174.919998  -0.026960  1362.857293  1418.097708  55.240415   \n",
       "2022-01-06  172.000000  -0.016834  1340.106659  1418.097708  77.991048   \n",
       "\n",
       "            drawdown%  \n",
       "Date                   \n",
       "1980-12-15   0.000000  \n",
       "1980-12-16   0.073398  \n",
       "1980-12-17   0.050464  \n",
       "1980-12-18   0.022934  \n",
       "1980-12-19   0.000000  \n",
       "...               ...  \n",
       "2021-12-31   0.015305  \n",
       "2022-01-03   0.000000  \n",
       "2022-01-04   0.012692  \n",
       "2022-01-05   0.038954  \n",
       "2022-01-06   0.054997  \n",
       "\n",
       "[10355 rows x 6 columns]"
      ]
     },
     "execution_count": 29,
     "metadata": {},
     "output_type": "execute_result"
    }
   ],
   "source": [
    "apple"
   ]
  },
  {
   "cell_type": "code",
   "execution_count": 30,
   "id": "1ed5016f",
   "metadata": {},
   "outputs": [
    {
     "data": {
      "text/plain": [
       "0.82216567924191"
      ]
     },
     "execution_count": 30,
     "metadata": {},
     "output_type": "execute_result"
    }
   ],
   "source": [
    "apple[\"drawdown%\"].max()"
   ]
  },
  {
   "cell_type": "code",
   "execution_count": 31,
   "id": "d6b698da",
   "metadata": {},
   "outputs": [
    {
     "data": {
      "text/plain": [
       "Timestamp('1997-12-23 00:00:00')"
      ]
     },
     "execution_count": 31,
     "metadata": {},
     "output_type": "execute_result"
    }
   ],
   "source": [
    "apple[\"drawdown%\"].idxmax()"
   ]
  },
  {
   "cell_type": "code",
   "execution_count": 33,
   "id": "31a1171c",
   "metadata": {},
   "outputs": [
    {
     "data": {
      "text/html": [
       "<div>\n",
       "<style scoped>\n",
       "    .dataframe tbody tr th:only-of-type {\n",
       "        vertical-align: middle;\n",
       "    }\n",
       "\n",
       "    .dataframe tbody tr th {\n",
       "        vertical-align: top;\n",
       "    }\n",
       "\n",
       "    .dataframe thead th {\n",
       "        text-align: right;\n",
       "    }\n",
       "</style>\n",
       "<table border=\"1\" class=\"dataframe\">\n",
       "  <thead>\n",
       "    <tr style=\"text-align: right;\">\n",
       "      <th></th>\n",
       "      <th>Close</th>\n",
       "      <th>d_returns</th>\n",
       "      <th>cummreturns</th>\n",
       "      <th>cummax</th>\n",
       "      <th>drawdown</th>\n",
       "      <th>drawdown%</th>\n",
       "    </tr>\n",
       "    <tr>\n",
       "      <th>Date</th>\n",
       "      <th></th>\n",
       "      <th></th>\n",
       "      <th></th>\n",
       "      <th></th>\n",
       "      <th></th>\n",
       "      <th></th>\n",
       "    </tr>\n",
       "  </thead>\n",
       "  <tbody>\n",
       "    <tr>\n",
       "      <th>1980-12-15</th>\n",
       "      <td>0.121652</td>\n",
       "      <td>-0.053581</td>\n",
       "      <td>0.947829</td>\n",
       "      <td>0.947829</td>\n",
       "      <td>0.000000</td>\n",
       "      <td>0.000000</td>\n",
       "    </tr>\n",
       "    <tr>\n",
       "      <th>1980-12-16</th>\n",
       "      <td>0.112723</td>\n",
       "      <td>-0.076231</td>\n",
       "      <td>0.878261</td>\n",
       "      <td>0.947829</td>\n",
       "      <td>0.069569</td>\n",
       "      <td>0.073398</td>\n",
       "    </tr>\n",
       "    <tr>\n",
       "      <th>1980-12-17</th>\n",
       "      <td>0.115513</td>\n",
       "      <td>0.024450</td>\n",
       "      <td>0.899998</td>\n",
       "      <td>0.947829</td>\n",
       "      <td>0.047831</td>\n",
       "      <td>0.050464</td>\n",
       "    </tr>\n",
       "    <tr>\n",
       "      <th>1980-12-18</th>\n",
       "      <td>0.118862</td>\n",
       "      <td>0.028580</td>\n",
       "      <td>0.926092</td>\n",
       "      <td>0.947829</td>\n",
       "      <td>0.021738</td>\n",
       "      <td>0.022934</td>\n",
       "    </tr>\n",
       "    <tr>\n",
       "      <th>1980-12-19</th>\n",
       "      <td>0.126116</td>\n",
       "      <td>0.059239</td>\n",
       "      <td>0.982610</td>\n",
       "      <td>0.982610</td>\n",
       "      <td>0.000000</td>\n",
       "      <td>0.000000</td>\n",
       "    </tr>\n",
       "    <tr>\n",
       "      <th>...</th>\n",
       "      <td>...</td>\n",
       "      <td>...</td>\n",
       "      <td>...</td>\n",
       "      <td>...</td>\n",
       "      <td>...</td>\n",
       "      <td>...</td>\n",
       "    </tr>\n",
       "    <tr>\n",
       "      <th>1997-12-17</th>\n",
       "      <td>0.124442</td>\n",
       "      <td>-0.026549</td>\n",
       "      <td>0.969567</td>\n",
       "      <td>5.060882</td>\n",
       "      <td>4.091315</td>\n",
       "      <td>0.808419</td>\n",
       "    </tr>\n",
       "    <tr>\n",
       "      <th>1997-12-18</th>\n",
       "      <td>0.123326</td>\n",
       "      <td>-0.009008</td>\n",
       "      <td>0.960872</td>\n",
       "      <td>5.060882</td>\n",
       "      <td>4.100010</td>\n",
       "      <td>0.810137</td>\n",
       "    </tr>\n",
       "    <tr>\n",
       "      <th>1997-12-19</th>\n",
       "      <td>0.122210</td>\n",
       "      <td>-0.009090</td>\n",
       "      <td>0.952177</td>\n",
       "      <td>5.060882</td>\n",
       "      <td>4.108705</td>\n",
       "      <td>0.811856</td>\n",
       "    </tr>\n",
       "    <tr>\n",
       "      <th>1997-12-22</th>\n",
       "      <td>0.118862</td>\n",
       "      <td>-0.027778</td>\n",
       "      <td>0.926092</td>\n",
       "      <td>5.060882</td>\n",
       "      <td>4.134790</td>\n",
       "      <td>0.817010</td>\n",
       "    </tr>\n",
       "    <tr>\n",
       "      <th>1997-12-23</th>\n",
       "      <td>0.115513</td>\n",
       "      <td>-0.028580</td>\n",
       "      <td>0.899998</td>\n",
       "      <td>5.060882</td>\n",
       "      <td>4.160883</td>\n",
       "      <td>0.822166</td>\n",
       "    </tr>\n",
       "  </tbody>\n",
       "</table>\n",
       "<p>4306 rows × 6 columns</p>\n",
       "</div>"
      ],
      "text/plain": [
       "               Close  d_returns  cummreturns    cummax  drawdown  drawdown%\n",
       "Date                                                                       \n",
       "1980-12-15  0.121652  -0.053581     0.947829  0.947829  0.000000   0.000000\n",
       "1980-12-16  0.112723  -0.076231     0.878261  0.947829  0.069569   0.073398\n",
       "1980-12-17  0.115513   0.024450     0.899998  0.947829  0.047831   0.050464\n",
       "1980-12-18  0.118862   0.028580     0.926092  0.947829  0.021738   0.022934\n",
       "1980-12-19  0.126116   0.059239     0.982610  0.982610  0.000000   0.000000\n",
       "...              ...        ...          ...       ...       ...        ...\n",
       "1997-12-17  0.124442  -0.026549     0.969567  5.060882  4.091315   0.808419\n",
       "1997-12-18  0.123326  -0.009008     0.960872  5.060882  4.100010   0.810137\n",
       "1997-12-19  0.122210  -0.009090     0.952177  5.060882  4.108705   0.811856\n",
       "1997-12-22  0.118862  -0.027778     0.926092  5.060882  4.134790   0.817010\n",
       "1997-12-23  0.115513  -0.028580     0.899998  5.060882  4.160883   0.822166\n",
       "\n",
       "[4306 rows x 6 columns]"
      ]
     },
     "execution_count": 33,
     "metadata": {},
     "output_type": "execute_result"
    }
   ],
   "source": [
    "apple.loc[(apple.index <= '1997-12-23 00:00:00' )]"
   ]
  },
  {
   "cell_type": "markdown",
   "id": "9a54c687",
   "metadata": {},
   "source": [
    "## SMA  Strategy\n",
    "\n",
    "MA(moving average) = SMA (simple moving average) = DMA (daily moving average)\n",
    "EMA ( exponential moving average )"
   ]
  },
  {
   "cell_type": "code",
   "execution_count": 36,
   "id": "ca59087b",
   "metadata": {},
   "outputs": [],
   "source": [
    "data = apple.Close.loc[(apple.index >= '1991-01-01' )]"
   ]
  },
  {
   "cell_type": "code",
   "execution_count": 38,
   "id": "5e06207d",
   "metadata": {},
   "outputs": [],
   "source": [
    "data = data.to_frame()"
   ]
  },
  {
   "cell_type": "code",
   "execution_count": 39,
   "id": "212d2f42",
   "metadata": {},
   "outputs": [
    {
     "data": {
      "text/html": [
       "<div>\n",
       "<style scoped>\n",
       "    .dataframe tbody tr th:only-of-type {\n",
       "        vertical-align: middle;\n",
       "    }\n",
       "\n",
       "    .dataframe tbody tr th {\n",
       "        vertical-align: top;\n",
       "    }\n",
       "\n",
       "    .dataframe thead th {\n",
       "        text-align: right;\n",
       "    }\n",
       "</style>\n",
       "<table border=\"1\" class=\"dataframe\">\n",
       "  <thead>\n",
       "    <tr style=\"text-align: right;\">\n",
       "      <th></th>\n",
       "      <th>Close</th>\n",
       "    </tr>\n",
       "    <tr>\n",
       "      <th>Date</th>\n",
       "      <th></th>\n",
       "    </tr>\n",
       "  </thead>\n",
       "  <tbody>\n",
       "    <tr>\n",
       "      <th>1991-01-02</th>\n",
       "      <td>0.388393</td>\n",
       "    </tr>\n",
       "    <tr>\n",
       "      <th>1991-01-03</th>\n",
       "      <td>0.383929</td>\n",
       "    </tr>\n",
       "    <tr>\n",
       "      <th>1991-01-04</th>\n",
       "      <td>0.386161</td>\n",
       "    </tr>\n",
       "    <tr>\n",
       "      <th>1991-01-07</th>\n",
       "      <td>0.386161</td>\n",
       "    </tr>\n",
       "    <tr>\n",
       "      <th>1991-01-08</th>\n",
       "      <td>0.386161</td>\n",
       "    </tr>\n",
       "    <tr>\n",
       "      <th>...</th>\n",
       "      <td>...</td>\n",
       "    </tr>\n",
       "    <tr>\n",
       "      <th>2021-12-31</th>\n",
       "      <td>177.570007</td>\n",
       "    </tr>\n",
       "    <tr>\n",
       "      <th>2022-01-03</th>\n",
       "      <td>182.009995</td>\n",
       "    </tr>\n",
       "    <tr>\n",
       "      <th>2022-01-04</th>\n",
       "      <td>179.699997</td>\n",
       "    </tr>\n",
       "    <tr>\n",
       "      <th>2022-01-05</th>\n",
       "      <td>174.919998</td>\n",
       "    </tr>\n",
       "    <tr>\n",
       "      <th>2022-01-06</th>\n",
       "      <td>172.000000</td>\n",
       "    </tr>\n",
       "  </tbody>\n",
       "</table>\n",
       "<p>7815 rows × 1 columns</p>\n",
       "</div>"
      ],
      "text/plain": [
       "                 Close\n",
       "Date                  \n",
       "1991-01-02    0.388393\n",
       "1991-01-03    0.383929\n",
       "1991-01-04    0.386161\n",
       "1991-01-07    0.386161\n",
       "1991-01-08    0.386161\n",
       "...                ...\n",
       "2021-12-31  177.570007\n",
       "2022-01-03  182.009995\n",
       "2022-01-04  179.699997\n",
       "2022-01-05  174.919998\n",
       "2022-01-06  172.000000\n",
       "\n",
       "[7815 rows x 1 columns]"
      ]
     },
     "execution_count": 39,
     "metadata": {},
     "output_type": "execute_result"
    }
   ],
   "source": [
    "data"
   ]
  },
  {
   "cell_type": "code",
   "execution_count": 40,
   "id": "29b295d4",
   "metadata": {},
   "outputs": [],
   "source": [
    "sma_s = 50\n",
    "sma_l = 100"
   ]
  },
  {
   "cell_type": "code",
   "execution_count": 41,
   "id": "ae16b79b",
   "metadata": {},
   "outputs": [],
   "source": [
    "data[\"sma_s\"] = data.Close.rolling(sma_s).mean()\n",
    "data[\"sma_l\"] = data.Close.rolling(sma_l).mean()"
   ]
  },
  {
   "cell_type": "code",
   "execution_count": 42,
   "id": "aea86a51",
   "metadata": {},
   "outputs": [
    {
     "data": {
      "text/html": [
       "<div>\n",
       "<style scoped>\n",
       "    .dataframe tbody tr th:only-of-type {\n",
       "        vertical-align: middle;\n",
       "    }\n",
       "\n",
       "    .dataframe tbody tr th {\n",
       "        vertical-align: top;\n",
       "    }\n",
       "\n",
       "    .dataframe thead th {\n",
       "        text-align: right;\n",
       "    }\n",
       "</style>\n",
       "<table border=\"1\" class=\"dataframe\">\n",
       "  <thead>\n",
       "    <tr style=\"text-align: right;\">\n",
       "      <th></th>\n",
       "      <th>Close</th>\n",
       "      <th>sma_s</th>\n",
       "      <th>sma_l</th>\n",
       "    </tr>\n",
       "    <tr>\n",
       "      <th>Date</th>\n",
       "      <th></th>\n",
       "      <th></th>\n",
       "      <th></th>\n",
       "    </tr>\n",
       "  </thead>\n",
       "  <tbody>\n",
       "    <tr>\n",
       "      <th>1991-01-02</th>\n",
       "      <td>0.388393</td>\n",
       "      <td>NaN</td>\n",
       "      <td>NaN</td>\n",
       "    </tr>\n",
       "    <tr>\n",
       "      <th>1991-01-03</th>\n",
       "      <td>0.383929</td>\n",
       "      <td>NaN</td>\n",
       "      <td>NaN</td>\n",
       "    </tr>\n",
       "    <tr>\n",
       "      <th>1991-01-04</th>\n",
       "      <td>0.386161</td>\n",
       "      <td>NaN</td>\n",
       "      <td>NaN</td>\n",
       "    </tr>\n",
       "    <tr>\n",
       "      <th>1991-01-07</th>\n",
       "      <td>0.386161</td>\n",
       "      <td>NaN</td>\n",
       "      <td>NaN</td>\n",
       "    </tr>\n",
       "    <tr>\n",
       "      <th>1991-01-08</th>\n",
       "      <td>0.386161</td>\n",
       "      <td>NaN</td>\n",
       "      <td>NaN</td>\n",
       "    </tr>\n",
       "    <tr>\n",
       "      <th>...</th>\n",
       "      <td>...</td>\n",
       "      <td>...</td>\n",
       "      <td>...</td>\n",
       "    </tr>\n",
       "    <tr>\n",
       "      <th>2021-12-31</th>\n",
       "      <td>177.570007</td>\n",
       "      <td>162.097601</td>\n",
       "      <td>154.6399</td>\n",
       "    </tr>\n",
       "    <tr>\n",
       "      <th>2022-01-03</th>\n",
       "      <td>182.009995</td>\n",
       "      <td>162.748201</td>\n",
       "      <td>155.0014</td>\n",
       "    </tr>\n",
       "    <tr>\n",
       "      <th>2022-01-04</th>\n",
       "      <td>179.699997</td>\n",
       "      <td>163.368401</td>\n",
       "      <td>155.3095</td>\n",
       "    </tr>\n",
       "    <tr>\n",
       "      <th>2022-01-05</th>\n",
       "      <td>174.919998</td>\n",
       "      <td>163.894001</td>\n",
       "      <td>155.5677</td>\n",
       "    </tr>\n",
       "    <tr>\n",
       "      <th>2022-01-06</th>\n",
       "      <td>172.000000</td>\n",
       "      <td>164.347601</td>\n",
       "      <td>155.7765</td>\n",
       "    </tr>\n",
       "  </tbody>\n",
       "</table>\n",
       "<p>7815 rows × 3 columns</p>\n",
       "</div>"
      ],
      "text/plain": [
       "                 Close       sma_s     sma_l\n",
       "Date                                        \n",
       "1991-01-02    0.388393         NaN       NaN\n",
       "1991-01-03    0.383929         NaN       NaN\n",
       "1991-01-04    0.386161         NaN       NaN\n",
       "1991-01-07    0.386161         NaN       NaN\n",
       "1991-01-08    0.386161         NaN       NaN\n",
       "...                ...         ...       ...\n",
       "2021-12-31  177.570007  162.097601  154.6399\n",
       "2022-01-03  182.009995  162.748201  155.0014\n",
       "2022-01-04  179.699997  163.368401  155.3095\n",
       "2022-01-05  174.919998  163.894001  155.5677\n",
       "2022-01-06  172.000000  164.347601  155.7765\n",
       "\n",
       "[7815 rows x 3 columns]"
      ]
     },
     "execution_count": 42,
     "metadata": {},
     "output_type": "execute_result"
    }
   ],
   "source": [
    "data"
   ]
  },
  {
   "cell_type": "code",
   "execution_count": 43,
   "id": "17473c82",
   "metadata": {},
   "outputs": [
    {
     "data": {
      "text/plain": [
       "<AxesSubplot:title={'center':'AAPLE - SMA50 |  SMA100'}, xlabel='Date'>"
      ]
     },
     "execution_count": 43,
     "metadata": {},
     "output_type": "execute_result"
    },
    {
     "data": {
      "image/png": "[encoded data removed]",
      "text/plain": [
       "<Figure size 864x576 with 1 Axes>"
      ]
     },
     "metadata": {
      "needs_background": "light"
     },
     "output_type": "display_data"
    }
   ],
   "source": [
    "data.plot(figsize=(12,8),title = \"AAPLE - SMA{} |  SMA{}\".format(sma_s, sma_l))\n"
   ]
  },
  {
   "cell_type": "code",
   "execution_count": 45,
   "id": "d7742427",
   "metadata": {},
   "outputs": [
    {
     "data": {
      "text/plain": [
       "<AxesSubplot:title={'center':'AAPLE - SMA50 |  SMA100'}, xlabel='Date'>"
      ]
     },
     "execution_count": 45,
     "metadata": {},
     "output_type": "execute_result"
    },
    {
     "data": {
      "image/png": "[encoded data removed]",
      "text/plain": [
       "<Figure size 864x576 with 1 Axes>"
      ]
     },
     "metadata": {
      "needs_background": "light"
     },
     "output_type": "display_data"
    }
   ],
   "source": [
    "data.loc[\"2016\"].plot(figsize=(12,8),title = \"AAPLE - SMA{} |  SMA{}\".format(sma_s, sma_l))\n"
   ]
  },
  {
   "cell_type": "code",
   "execution_count": 46,
   "id": "89bd8de6",
   "metadata": {},
   "outputs": [],
   "source": [
    "data.dropna(inplace = True)"
   ]
  },
  {
   "cell_type": "code",
   "execution_count": 47,
   "id": "d564970c",
   "metadata": {},
   "outputs": [
    {
     "data": {
      "text/html": [
       "<div>\n",
       "<style scoped>\n",
       "    .dataframe tbody tr th:only-of-type {\n",
       "        vertical-align: middle;\n",
       "    }\n",
       "\n",
       "    .dataframe tbody tr th {\n",
       "        vertical-align: top;\n",
       "    }\n",
       "\n",
       "    .dataframe thead th {\n",
       "        text-align: right;\n",
       "    }\n",
       "</style>\n",
       "<table border=\"1\" class=\"dataframe\">\n",
       "  <thead>\n",
       "    <tr style=\"text-align: right;\">\n",
       "      <th></th>\n",
       "      <th>Close</th>\n",
       "      <th>sma_s</th>\n",
       "      <th>sma_l</th>\n",
       "    </tr>\n",
       "    <tr>\n",
       "      <th>Date</th>\n",
       "      <th></th>\n",
       "      <th></th>\n",
       "      <th></th>\n",
       "    </tr>\n",
       "  </thead>\n",
       "  <tbody>\n",
       "    <tr>\n",
       "      <th>1991-05-23</th>\n",
       "      <td>0.402902</td>\n",
       "      <td>0.534420</td>\n",
       "      <td>0.513326</td>\n",
       "    </tr>\n",
       "    <tr>\n",
       "      <th>1991-05-24</th>\n",
       "      <td>0.409598</td>\n",
       "      <td>0.530960</td>\n",
       "      <td>0.513538</td>\n",
       "    </tr>\n",
       "    <tr>\n",
       "      <th>1991-05-28</th>\n",
       "      <td>0.410714</td>\n",
       "      <td>0.527344</td>\n",
       "      <td>0.513806</td>\n",
       "    </tr>\n",
       "    <tr>\n",
       "      <th>1991-05-29</th>\n",
       "      <td>0.419643</td>\n",
       "      <td>0.523638</td>\n",
       "      <td>0.514141</td>\n",
       "    </tr>\n",
       "    <tr>\n",
       "      <th>1991-05-30</th>\n",
       "      <td>0.425223</td>\n",
       "      <td>0.519732</td>\n",
       "      <td>0.514531</td>\n",
       "    </tr>\n",
       "    <tr>\n",
       "      <th>...</th>\n",
       "      <td>...</td>\n",
       "      <td>...</td>\n",
       "      <td>...</td>\n",
       "    </tr>\n",
       "    <tr>\n",
       "      <th>2021-12-31</th>\n",
       "      <td>177.570007</td>\n",
       "      <td>162.097601</td>\n",
       "      <td>154.639900</td>\n",
       "    </tr>\n",
       "    <tr>\n",
       "      <th>2022-01-03</th>\n",
       "      <td>182.009995</td>\n",
       "      <td>162.748201</td>\n",
       "      <td>155.001400</td>\n",
       "    </tr>\n",
       "    <tr>\n",
       "      <th>2022-01-04</th>\n",
       "      <td>179.699997</td>\n",
       "      <td>163.368401</td>\n",
       "      <td>155.309500</td>\n",
       "    </tr>\n",
       "    <tr>\n",
       "      <th>2022-01-05</th>\n",
       "      <td>174.919998</td>\n",
       "      <td>163.894001</td>\n",
       "      <td>155.567700</td>\n",
       "    </tr>\n",
       "    <tr>\n",
       "      <th>2022-01-06</th>\n",
       "      <td>172.000000</td>\n",
       "      <td>164.347601</td>\n",
       "      <td>155.776500</td>\n",
       "    </tr>\n",
       "  </tbody>\n",
       "</table>\n",
       "<p>7716 rows × 3 columns</p>\n",
       "</div>"
      ],
      "text/plain": [
       "                 Close       sma_s       sma_l\n",
       "Date                                          \n",
       "1991-05-23    0.402902    0.534420    0.513326\n",
       "1991-05-24    0.409598    0.530960    0.513538\n",
       "1991-05-28    0.410714    0.527344    0.513806\n",
       "1991-05-29    0.419643    0.523638    0.514141\n",
       "1991-05-30    0.425223    0.519732    0.514531\n",
       "...                ...         ...         ...\n",
       "2021-12-31  177.570007  162.097601  154.639900\n",
       "2022-01-03  182.009995  162.748201  155.001400\n",
       "2022-01-04  179.699997  163.368401  155.309500\n",
       "2022-01-05  174.919998  163.894001  155.567700\n",
       "2022-01-06  172.000000  164.347601  155.776500\n",
       "\n",
       "[7716 rows x 3 columns]"
      ]
     },
     "execution_count": 47,
     "metadata": {},
     "output_type": "execute_result"
    }
   ],
   "source": [
    "data"
   ]
  },
  {
   "cell_type": "code",
   "execution_count": 48,
   "id": "0dc99962",
   "metadata": {},
   "outputs": [],
   "source": [
    "data[\"position\"] = np.where(data[\"sma_s\"]>data[\"sma_l\"],1,-1)"
   ]
  },
  {
   "cell_type": "code",
   "execution_count": 49,
   "id": "6697041b",
   "metadata": {
    "scrolled": true
   },
   "outputs": [
    {
     "data": {
      "text/html": [
       "<div>\n",
       "<style scoped>\n",
       "    .dataframe tbody tr th:only-of-type {\n",
       "        vertical-align: middle;\n",
       "    }\n",
       "\n",
       "    .dataframe tbody tr th {\n",
       "        vertical-align: top;\n",
       "    }\n",
       "\n",
       "    .dataframe thead th {\n",
       "        text-align: right;\n",
       "    }\n",
       "</style>\n",
       "<table border=\"1\" class=\"dataframe\">\n",
       "  <thead>\n",
       "    <tr style=\"text-align: right;\">\n",
       "      <th></th>\n",
       "      <th>Close</th>\n",
       "      <th>sma_s</th>\n",
       "      <th>sma_l</th>\n",
       "      <th>position</th>\n",
       "    </tr>\n",
       "    <tr>\n",
       "      <th>Date</th>\n",
       "      <th></th>\n",
       "      <th></th>\n",
       "      <th></th>\n",
       "      <th></th>\n",
       "    </tr>\n",
       "  </thead>\n",
       "  <tbody>\n",
       "    <tr>\n",
       "      <th>1991-05-23</th>\n",
       "      <td>0.402902</td>\n",
       "      <td>0.534420</td>\n",
       "      <td>0.513326</td>\n",
       "      <td>1</td>\n",
       "    </tr>\n",
       "    <tr>\n",
       "      <th>1991-05-24</th>\n",
       "      <td>0.409598</td>\n",
       "      <td>0.530960</td>\n",
       "      <td>0.513538</td>\n",
       "      <td>1</td>\n",
       "    </tr>\n",
       "    <tr>\n",
       "      <th>1991-05-28</th>\n",
       "      <td>0.410714</td>\n",
       "      <td>0.527344</td>\n",
       "      <td>0.513806</td>\n",
       "      <td>1</td>\n",
       "    </tr>\n",
       "    <tr>\n",
       "      <th>1991-05-29</th>\n",
       "      <td>0.419643</td>\n",
       "      <td>0.523638</td>\n",
       "      <td>0.514141</td>\n",
       "      <td>1</td>\n",
       "    </tr>\n",
       "    <tr>\n",
       "      <th>1991-05-30</th>\n",
       "      <td>0.425223</td>\n",
       "      <td>0.519732</td>\n",
       "      <td>0.514531</td>\n",
       "      <td>1</td>\n",
       "    </tr>\n",
       "    <tr>\n",
       "      <th>...</th>\n",
       "      <td>...</td>\n",
       "      <td>...</td>\n",
       "      <td>...</td>\n",
       "      <td>...</td>\n",
       "    </tr>\n",
       "    <tr>\n",
       "      <th>2021-12-31</th>\n",
       "      <td>177.570007</td>\n",
       "      <td>162.097601</td>\n",
       "      <td>154.639900</td>\n",
       "      <td>1</td>\n",
       "    </tr>\n",
       "    <tr>\n",
       "      <th>2022-01-03</th>\n",
       "      <td>182.009995</td>\n",
       "      <td>162.748201</td>\n",
       "      <td>155.001400</td>\n",
       "      <td>1</td>\n",
       "    </tr>\n",
       "    <tr>\n",
       "      <th>2022-01-04</th>\n",
       "      <td>179.699997</td>\n",
       "      <td>163.368401</td>\n",
       "      <td>155.309500</td>\n",
       "      <td>1</td>\n",
       "    </tr>\n",
       "    <tr>\n",
       "      <th>2022-01-05</th>\n",
       "      <td>174.919998</td>\n",
       "      <td>163.894001</td>\n",
       "      <td>155.567700</td>\n",
       "      <td>1</td>\n",
       "    </tr>\n",
       "    <tr>\n",
       "      <th>2022-01-06</th>\n",
       "      <td>172.000000</td>\n",
       "      <td>164.347601</td>\n",
       "      <td>155.776500</td>\n",
       "      <td>1</td>\n",
       "    </tr>\n",
       "  </tbody>\n",
       "</table>\n",
       "<p>7716 rows × 4 columns</p>\n",
       "</div>"
      ],
      "text/plain": [
       "                 Close       sma_s       sma_l  position\n",
       "Date                                                    \n",
       "1991-05-23    0.402902    0.534420    0.513326         1\n",
       "1991-05-24    0.409598    0.530960    0.513538         1\n",
       "1991-05-28    0.410714    0.527344    0.513806         1\n",
       "1991-05-29    0.419643    0.523638    0.514141         1\n",
       "1991-05-30    0.425223    0.519732    0.514531         1\n",
       "...                ...         ...         ...       ...\n",
       "2021-12-31  177.570007  162.097601  154.639900         1\n",
       "2022-01-03  182.009995  162.748201  155.001400         1\n",
       "2022-01-04  179.699997  163.368401  155.309500         1\n",
       "2022-01-05  174.919998  163.894001  155.567700         1\n",
       "2022-01-06  172.000000  164.347601  155.776500         1\n",
       "\n",
       "[7716 rows x 4 columns]"
      ]
     },
     "execution_count": 49,
     "metadata": {},
     "output_type": "execute_result"
    }
   ],
   "source": [
    "data"
   ]
  },
  {
   "cell_type": "code",
   "execution_count": 54,
   "id": "f2aa071f",
   "metadata": {},
   "outputs": [
    {
     "data": {
      "text/plain": [
       "<AxesSubplot:title={'center':'AAPLE - SMA50 |  SMA100'}, xlabel='Date'>"
      ]
     },
     "execution_count": 54,
     "metadata": {},
     "output_type": "execute_result"
    },
    {
     "data": {
      "image/png": "[encoded data removed]",
      "text/plain": [
       "<Figure size 864x576 with 2 Axes>"
      ]
     },
     "metadata": {
      "needs_background": "light"
     },
     "output_type": "display_data"
    }
   ],
   "source": [
    "data.loc[\"2016\",[\"sma_s\",\"sma_l\",\"position\"]].plot(figsize=(12,8),title = \"AAPLE - SMA{} |  SMA{}\".format(sma_s, sma_l), fontsize = 12, secondary_y ='position')\n"
   ]
  },
  {
   "cell_type": "code",
   "execution_count": 55,
   "id": "3cf7b6d7",
   "metadata": {},
   "outputs": [],
   "source": [
    "data[\"returnsb&h\"] = np.log(data.Close.div(data.Close.shift(1)))"
   ]
  },
  {
   "cell_type": "code",
   "execution_count": 58,
   "id": "0217fb64",
   "metadata": {},
   "outputs": [],
   "source": [
    "data[\"strategy\"] = data[\"returnsb&h\"]*data.position.shift(1)"
   ]
  },
  {
   "cell_type": "code",
   "execution_count": 59,
   "id": "b95232f5",
   "metadata": {},
   "outputs": [
    {
     "data": {
      "text/html": [
       "<div>\n",
       "<style scoped>\n",
       "    .dataframe tbody tr th:only-of-type {\n",
       "        vertical-align: middle;\n",
       "    }\n",
       "\n",
       "    .dataframe tbody tr th {\n",
       "        vertical-align: top;\n",
       "    }\n",
       "\n",
       "    .dataframe thead th {\n",
       "        text-align: right;\n",
       "    }\n",
       "</style>\n",
       "<table border=\"1\" class=\"dataframe\">\n",
       "  <thead>\n",
       "    <tr style=\"text-align: right;\">\n",
       "      <th></th>\n",
       "      <th>Close</th>\n",
       "      <th>sma_s</th>\n",
       "      <th>sma_l</th>\n",
       "      <th>position</th>\n",
       "      <th>returnsb&amp;h</th>\n",
       "      <th>strategy</th>\n",
       "    </tr>\n",
       "    <tr>\n",
       "      <th>Date</th>\n",
       "      <th></th>\n",
       "      <th></th>\n",
       "      <th></th>\n",
       "      <th></th>\n",
       "      <th></th>\n",
       "      <th></th>\n",
       "    </tr>\n",
       "  </thead>\n",
       "  <tbody>\n",
       "    <tr>\n",
       "      <th>1991-05-23</th>\n",
       "      <td>0.402902</td>\n",
       "      <td>0.534420</td>\n",
       "      <td>0.513326</td>\n",
       "      <td>1</td>\n",
       "      <td>NaN</td>\n",
       "      <td>NaN</td>\n",
       "    </tr>\n",
       "    <tr>\n",
       "      <th>1991-05-24</th>\n",
       "      <td>0.409598</td>\n",
       "      <td>0.530960</td>\n",
       "      <td>0.513538</td>\n",
       "      <td>1</td>\n",
       "      <td>0.016483</td>\n",
       "      <td>0.016483</td>\n",
       "    </tr>\n",
       "    <tr>\n",
       "      <th>1991-05-28</th>\n",
       "      <td>0.410714</td>\n",
       "      <td>0.527344</td>\n",
       "      <td>0.513806</td>\n",
       "      <td>1</td>\n",
       "      <td>0.002721</td>\n",
       "      <td>0.002721</td>\n",
       "    </tr>\n",
       "    <tr>\n",
       "      <th>1991-05-29</th>\n",
       "      <td>0.419643</td>\n",
       "      <td>0.523638</td>\n",
       "      <td>0.514141</td>\n",
       "      <td>1</td>\n",
       "      <td>0.021507</td>\n",
       "      <td>0.021507</td>\n",
       "    </tr>\n",
       "    <tr>\n",
       "      <th>1991-05-30</th>\n",
       "      <td>0.425223</td>\n",
       "      <td>0.519732</td>\n",
       "      <td>0.514531</td>\n",
       "      <td>1</td>\n",
       "      <td>0.013209</td>\n",
       "      <td>0.013209</td>\n",
       "    </tr>\n",
       "    <tr>\n",
       "      <th>...</th>\n",
       "      <td>...</td>\n",
       "      <td>...</td>\n",
       "      <td>...</td>\n",
       "      <td>...</td>\n",
       "      <td>...</td>\n",
       "      <td>...</td>\n",
       "    </tr>\n",
       "    <tr>\n",
       "      <th>2021-12-31</th>\n",
       "      <td>177.570007</td>\n",
       "      <td>162.097601</td>\n",
       "      <td>154.639900</td>\n",
       "      <td>1</td>\n",
       "      <td>-0.003542</td>\n",
       "      <td>-0.003542</td>\n",
       "    </tr>\n",
       "    <tr>\n",
       "      <th>2022-01-03</th>\n",
       "      <td>182.009995</td>\n",
       "      <td>162.748201</td>\n",
       "      <td>155.001400</td>\n",
       "      <td>1</td>\n",
       "      <td>0.024697</td>\n",
       "      <td>0.024697</td>\n",
       "    </tr>\n",
       "    <tr>\n",
       "      <th>2022-01-04</th>\n",
       "      <td>179.699997</td>\n",
       "      <td>163.368401</td>\n",
       "      <td>155.309500</td>\n",
       "      <td>1</td>\n",
       "      <td>-0.012773</td>\n",
       "      <td>-0.012773</td>\n",
       "    </tr>\n",
       "    <tr>\n",
       "      <th>2022-01-05</th>\n",
       "      <td>174.919998</td>\n",
       "      <td>163.894001</td>\n",
       "      <td>155.567700</td>\n",
       "      <td>1</td>\n",
       "      <td>-0.026960</td>\n",
       "      <td>-0.026960</td>\n",
       "    </tr>\n",
       "    <tr>\n",
       "      <th>2022-01-06</th>\n",
       "      <td>172.000000</td>\n",
       "      <td>164.347601</td>\n",
       "      <td>155.776500</td>\n",
       "      <td>1</td>\n",
       "      <td>-0.016834</td>\n",
       "      <td>-0.016834</td>\n",
       "    </tr>\n",
       "  </tbody>\n",
       "</table>\n",
       "<p>7716 rows × 6 columns</p>\n",
       "</div>"
      ],
      "text/plain": [
       "                 Close       sma_s       sma_l  position  returnsb&h  strategy\n",
       "Date                                                                          \n",
       "1991-05-23    0.402902    0.534420    0.513326         1         NaN       NaN\n",
       "1991-05-24    0.409598    0.530960    0.513538         1    0.016483  0.016483\n",
       "1991-05-28    0.410714    0.527344    0.513806         1    0.002721  0.002721\n",
       "1991-05-29    0.419643    0.523638    0.514141         1    0.021507  0.021507\n",
       "1991-05-30    0.425223    0.519732    0.514531         1    0.013209  0.013209\n",
       "...                ...         ...         ...       ...         ...       ...\n",
       "2021-12-31  177.570007  162.097601  154.639900         1   -0.003542 -0.003542\n",
       "2022-01-03  182.009995  162.748201  155.001400         1    0.024697  0.024697\n",
       "2022-01-04  179.699997  163.368401  155.309500         1   -0.012773 -0.012773\n",
       "2022-01-05  174.919998  163.894001  155.567700         1   -0.026960 -0.026960\n",
       "2022-01-06  172.000000  164.347601  155.776500         1   -0.016834 -0.016834\n",
       "\n",
       "[7716 rows x 6 columns]"
      ]
     },
     "execution_count": 59,
     "metadata": {},
     "output_type": "execute_result"
    }
   ],
   "source": [
    "data"
   ]
  },
  {
   "cell_type": "code",
   "execution_count": 60,
   "id": "8db5a35e",
   "metadata": {},
   "outputs": [],
   "source": [
    "data.dropna(inplace = True)"
   ]
  },
  {
   "cell_type": "code",
   "execution_count": 61,
   "id": "9bb3d8f6",
   "metadata": {},
   "outputs": [
    {
     "data": {
      "text/plain": [
       "returnsb&h    6.056556\n",
       "strategy      1.951082\n",
       "dtype: float64"
      ]
     },
     "execution_count": 61,
     "metadata": {},
     "output_type": "execute_result"
    }
   ],
   "source": [
    "data[[\"returnsb&h\",\"strategy\"]].sum()"
   ]
  },
  {
   "cell_type": "code",
   "execution_count": 62,
   "id": "af23fada",
   "metadata": {},
   "outputs": [
    {
     "data": {
      "text/plain": [
       "returnsb&h    426.902813\n",
       "strategy        7.036295\n",
       "dtype: float64"
      ]
     },
     "execution_count": 62,
     "metadata": {},
     "output_type": "execute_result"
    }
   ],
   "source": [
    "data[[\"returnsb&h\",\"strategy\"]].sum().apply(np.exp) "
   ]
  },
  {
   "cell_type": "code",
   "execution_count": 63,
   "id": "f501a10c",
   "metadata": {},
   "outputs": [
    {
     "data": {
      "text/plain": [
       "returnsb&h    0.442641\n",
       "strategy      0.442798\n",
       "dtype: float64"
      ]
     },
     "execution_count": 63,
     "metadata": {},
     "output_type": "execute_result"
    }
   ],
   "source": [
    "data[[\"returnsb&h\",\"strategy\"]].std()*np.sqrt(252) "
   ]
  },
  {
   "cell_type": "code",
   "execution_count": 65,
   "id": "ce411027",
   "metadata": {},
   "outputs": [
    {
     "data": {
      "text/plain": [
       "<AxesSubplot:xlabel='Date'>"
      ]
     },
     "execution_count": 65,
     "metadata": {},
     "output_type": "execute_result"
    },
    {
     "data": {
      "image/png": "[encoded data removed]",
      "text/plain": [
       "<Figure size 864x576 with 1 Axes>"
      ]
     },
     "metadata": {
      "needs_background": "light"
     },
     "output_type": "display_data"
    }
   ],
   "source": [
    "data.Close.plot(figsize = (12,8))"
   ]
  },
  {
   "cell_type": "markdown",
   "id": "cf8eb46d",
   "metadata": {},
   "source": [
    "## Strategy adjusted with long bias"
   ]
  },
  {
   "cell_type": "code",
   "execution_count": 66,
   "id": "967f6bc5",
   "metadata": {},
   "outputs": [],
   "source": [
    "data[\"position2\"] = np.where(data[\"sma_s\"]>data[\"sma_l\"],1,0)"
   ]
  },
  {
   "cell_type": "code",
   "execution_count": 71,
   "id": "7ee9b718",
   "metadata": {},
   "outputs": [],
   "source": [
    "data[\"strategy2\"] = data[\"returnsb&h\"]*data.position2.shift(1)"
   ]
  },
  {
   "cell_type": "code",
   "execution_count": 72,
   "id": "d86b8dd7",
   "metadata": {},
   "outputs": [
    {
     "data": {
      "text/html": [
       "<div>\n",
       "<style scoped>\n",
       "    .dataframe tbody tr th:only-of-type {\n",
       "        vertical-align: middle;\n",
       "    }\n",
       "\n",
       "    .dataframe tbody tr th {\n",
       "        vertical-align: top;\n",
       "    }\n",
       "\n",
       "    .dataframe thead th {\n",
       "        text-align: right;\n",
       "    }\n",
       "</style>\n",
       "<table border=\"1\" class=\"dataframe\">\n",
       "  <thead>\n",
       "    <tr style=\"text-align: right;\">\n",
       "      <th></th>\n",
       "      <th>Close</th>\n",
       "      <th>sma_s</th>\n",
       "      <th>sma_l</th>\n",
       "      <th>position</th>\n",
       "      <th>returnsb&amp;h</th>\n",
       "      <th>strategy</th>\n",
       "      <th>position2</th>\n",
       "      <th>strategy2</th>\n",
       "    </tr>\n",
       "    <tr>\n",
       "      <th>Date</th>\n",
       "      <th></th>\n",
       "      <th></th>\n",
       "      <th></th>\n",
       "      <th></th>\n",
       "      <th></th>\n",
       "      <th></th>\n",
       "      <th></th>\n",
       "      <th></th>\n",
       "    </tr>\n",
       "  </thead>\n",
       "  <tbody>\n",
       "    <tr>\n",
       "      <th>1991-05-28</th>\n",
       "      <td>0.410714</td>\n",
       "      <td>0.527344</td>\n",
       "      <td>0.513806</td>\n",
       "      <td>1</td>\n",
       "      <td>0.002721</td>\n",
       "      <td>0.002721</td>\n",
       "      <td>1</td>\n",
       "      <td>NaN</td>\n",
       "    </tr>\n",
       "    <tr>\n",
       "      <th>1991-05-29</th>\n",
       "      <td>0.419643</td>\n",
       "      <td>0.523638</td>\n",
       "      <td>0.514141</td>\n",
       "      <td>1</td>\n",
       "      <td>0.021507</td>\n",
       "      <td>0.021507</td>\n",
       "      <td>1</td>\n",
       "      <td>0.021507</td>\n",
       "    </tr>\n",
       "    <tr>\n",
       "      <th>1991-05-30</th>\n",
       "      <td>0.425223</td>\n",
       "      <td>0.519732</td>\n",
       "      <td>0.514531</td>\n",
       "      <td>1</td>\n",
       "      <td>0.013209</td>\n",
       "      <td>0.013209</td>\n",
       "      <td>1</td>\n",
       "      <td>0.013209</td>\n",
       "    </tr>\n",
       "    <tr>\n",
       "      <th>1991-05-31</th>\n",
       "      <td>0.419643</td>\n",
       "      <td>0.516027</td>\n",
       "      <td>0.514866</td>\n",
       "      <td>1</td>\n",
       "      <td>-0.013209</td>\n",
       "      <td>-0.013209</td>\n",
       "      <td>1</td>\n",
       "      <td>-0.013209</td>\n",
       "    </tr>\n",
       "    <tr>\n",
       "      <th>1991-06-03</th>\n",
       "      <td>0.439732</td>\n",
       "      <td>0.513259</td>\n",
       "      <td>0.515223</td>\n",
       "      <td>-1</td>\n",
       "      <td>0.046761</td>\n",
       "      <td>0.046761</td>\n",
       "      <td>0</td>\n",
       "      <td>0.046761</td>\n",
       "    </tr>\n",
       "    <tr>\n",
       "      <th>...</th>\n",
       "      <td>...</td>\n",
       "      <td>...</td>\n",
       "      <td>...</td>\n",
       "      <td>...</td>\n",
       "      <td>...</td>\n",
       "      <td>...</td>\n",
       "      <td>...</td>\n",
       "      <td>...</td>\n",
       "    </tr>\n",
       "    <tr>\n",
       "      <th>2021-12-31</th>\n",
       "      <td>177.570007</td>\n",
       "      <td>162.097601</td>\n",
       "      <td>154.639900</td>\n",
       "      <td>1</td>\n",
       "      <td>-0.003542</td>\n",
       "      <td>-0.003542</td>\n",
       "      <td>1</td>\n",
       "      <td>-0.003542</td>\n",
       "    </tr>\n",
       "    <tr>\n",
       "      <th>2022-01-03</th>\n",
       "      <td>182.009995</td>\n",
       "      <td>162.748201</td>\n",
       "      <td>155.001400</td>\n",
       "      <td>1</td>\n",
       "      <td>0.024697</td>\n",
       "      <td>0.024697</td>\n",
       "      <td>1</td>\n",
       "      <td>0.024697</td>\n",
       "    </tr>\n",
       "    <tr>\n",
       "      <th>2022-01-04</th>\n",
       "      <td>179.699997</td>\n",
       "      <td>163.368401</td>\n",
       "      <td>155.309500</td>\n",
       "      <td>1</td>\n",
       "      <td>-0.012773</td>\n",
       "      <td>-0.012773</td>\n",
       "      <td>1</td>\n",
       "      <td>-0.012773</td>\n",
       "    </tr>\n",
       "    <tr>\n",
       "      <th>2022-01-05</th>\n",
       "      <td>174.919998</td>\n",
       "      <td>163.894001</td>\n",
       "      <td>155.567700</td>\n",
       "      <td>1</td>\n",
       "      <td>-0.026960</td>\n",
       "      <td>-0.026960</td>\n",
       "      <td>1</td>\n",
       "      <td>-0.026960</td>\n",
       "    </tr>\n",
       "    <tr>\n",
       "      <th>2022-01-06</th>\n",
       "      <td>172.000000</td>\n",
       "      <td>164.347601</td>\n",
       "      <td>155.776500</td>\n",
       "      <td>1</td>\n",
       "      <td>-0.016834</td>\n",
       "      <td>-0.016834</td>\n",
       "      <td>1</td>\n",
       "      <td>-0.016834</td>\n",
       "    </tr>\n",
       "  </tbody>\n",
       "</table>\n",
       "<p>7714 rows × 8 columns</p>\n",
       "</div>"
      ],
      "text/plain": [
       "                 Close       sma_s       sma_l  position  returnsb&h  \\\n",
       "Date                                                                   \n",
       "1991-05-28    0.410714    0.527344    0.513806         1    0.002721   \n",
       "1991-05-29    0.419643    0.523638    0.514141         1    0.021507   \n",
       "1991-05-30    0.425223    0.519732    0.514531         1    0.013209   \n",
       "1991-05-31    0.419643    0.516027    0.514866         1   -0.013209   \n",
       "1991-06-03    0.439732    0.513259    0.515223        -1    0.046761   \n",
       "...                ...         ...         ...       ...         ...   \n",
       "2021-12-31  177.570007  162.097601  154.639900         1   -0.003542   \n",
       "2022-01-03  182.009995  162.748201  155.001400         1    0.024697   \n",
       "2022-01-04  179.699997  163.368401  155.309500         1   -0.012773   \n",
       "2022-01-05  174.919998  163.894001  155.567700         1   -0.026960   \n",
       "2022-01-06  172.000000  164.347601  155.776500         1   -0.016834   \n",
       "\n",
       "            strategy  position2  strategy2  \n",
       "Date                                        \n",
       "1991-05-28  0.002721          1        NaN  \n",
       "1991-05-29  0.021507          1   0.021507  \n",
       "1991-05-30  0.013209          1   0.013209  \n",
       "1991-05-31 -0.013209          1  -0.013209  \n",
       "1991-06-03  0.046761          0   0.046761  \n",
       "...              ...        ...        ...  \n",
       "2021-12-31 -0.003542          1  -0.003542  \n",
       "2022-01-03  0.024697          1   0.024697  \n",
       "2022-01-04 -0.012773          1  -0.012773  \n",
       "2022-01-05 -0.026960          1  -0.026960  \n",
       "2022-01-06 -0.016834          1  -0.016834  \n",
       "\n",
       "[7714 rows x 8 columns]"
      ]
     },
     "execution_count": 72,
     "metadata": {},
     "output_type": "execute_result"
    }
   ],
   "source": [
    "data"
   ]
  },
  {
   "cell_type": "code",
   "execution_count": 73,
   "id": "4cff116a",
   "metadata": {},
   "outputs": [],
   "source": [
    "data.dropna(inplace = True)"
   ]
  },
  {
   "cell_type": "code",
   "execution_count": 74,
   "id": "0a46ace7",
   "metadata": {},
   "outputs": [
    {
     "data": {
      "text/plain": [
       "returnsb&h    6.037353\n",
       "strategy2     3.984615\n",
       "dtype: float64"
      ]
     },
     "execution_count": 74,
     "metadata": {},
     "output_type": "execute_result"
    }
   ],
   "source": [
    "data[[\"returnsb&h\",\"strategy2\"]].sum()"
   ]
  },
  {
   "cell_type": "code",
   "execution_count": 75,
   "id": "98336c4f",
   "metadata": {},
   "outputs": [
    {
     "data": {
      "text/plain": [
       "returnsb&h    418.782900\n",
       "strategy2      53.764605\n",
       "dtype: float64"
      ]
     },
     "execution_count": 75,
     "metadata": {},
     "output_type": "execute_result"
    }
   ],
   "source": [
    "data[[\"returnsb&h\",\"strategy2\"]].sum().apply(np.exp) "
   ]
  },
  {
   "cell_type": "code",
   "execution_count": 76,
   "id": "894d0289",
   "metadata": {},
   "outputs": [
    {
     "data": {
      "text/plain": [
       "returnsb&h    0.442689\n",
       "strategy2     0.343623\n",
       "dtype: float64"
      ]
     },
     "execution_count": 76,
     "metadata": {},
     "output_type": "execute_result"
    }
   ],
   "source": [
    "data[[\"returnsb&h\",\"strategy2\"]].std()*np.sqrt(252) "
   ]
  },
  {
   "cell_type": "code",
   "execution_count": 77,
   "id": "8200993e",
   "metadata": {},
   "outputs": [
    {
     "data": {
      "text/plain": [
       "strategy     0.442845\n",
       "strategy2    0.343623\n",
       "dtype: float64"
      ]
     },
     "execution_count": 77,
     "metadata": {},
     "output_type": "execute_result"
    }
   ],
   "source": [
    "## Strategy 2 is better than strategy 1\n",
    "data[[\"strategy\",\"strategy2\"]].std()*np.sqrt(252) "
   ]
  },
  {
   "cell_type": "markdown",
   "id": "950d0c55",
   "metadata": {},
   "source": [
    "## creating our first function"
   ]
  },
  {
   "cell_type": "code",
   "execution_count": 78,
   "id": "e33e129c",
   "metadata": {},
   "outputs": [],
   "source": [
    "def test_strategy(stock,start,end,SMA):\n",
    "    df = yf.download(stock,start = start,end = end)\n",
    "    data = df.Close.to_frame()\n",
    "    data[\"returns\"] = np.log(data.Close.div(data.Close.shift(1)))\n",
    "    data[\"SMA_S\"] = data.Close.rolling(int(SMA[0])).mean()\n",
    "    data[\"SMA_L\"] = data.Close.rolling(int(SMA[1])).mean()\n",
    "    data.dropna(inplace = True)\n",
    "    \n",
    "    data[\"position\"] = np.where(data[\"SMA_S\"]>data[\"SMA_L\"],1,-1)\n",
    "    data[\"strategy\"] = data[\"returns\"]*data.position.shift(1)\n",
    "    \n",
    "    ret= np.exp(data[\"strategy\"].sum()) \n",
    "    std = data[\"strategy\"].std()*np.sqrt(252)\n",
    "    \n",
    "    return ret,std"
   ]
  },
  {
   "cell_type": "code",
   "execution_count": 81,
   "id": "9549eae8",
   "metadata": {},
   "outputs": [
    {
     "name": "stdout",
     "output_type": "stream",
     "text": [
      "[*********************100%***********************]  1 of 1 completed\n"
     ]
    },
    {
     "data": {
      "text/plain": [
       "(1.285221585869784, 0.14598284406859566)"
      ]
     },
     "execution_count": 81,
     "metadata": {},
     "output_type": "execute_result"
    }
   ],
   "source": [
    "test_strategy(\"SBI\",\"2000-01-01\",\"2020-01-01\",(50,200))"
   ]
  },
  {
   "cell_type": "markdown",
   "id": "47068f9c",
   "metadata": {},
   "source": [
    "## Creating the Class"
   ]
  },
  {
   "cell_type": "code",
   "execution_count": 93,
   "id": "1328fc27",
   "metadata": {},
   "outputs": [],
   "source": [
    "class SMABacktester():\n",
    "    def __init__(self,symbol,SMA_S, SMA_L, start,end):\n",
    "        self.symbol = symbol\n",
    "        self.SMA_S = SMA_S\n",
    "        self.SMA_L = SMA_L\n",
    "        self.start = start\n",
    "        self.end = end\n",
    "        self.results = None\n",
    "        self.get_data()\n",
    "    def get_data(self):\n",
    "        df = yf.download(self.symbol,start = self.start,end = self.end)\n",
    "        data = df.Close.to_frame()\n",
    "        data[\"returns\"] = np.log(data.Close.div(data.Close.shift(1)))\n",
    "        data[\"SMA_S\"] = data.Close.rolling(self.SMA_S).mean()\n",
    "        data[\"SMA_L\"] = data.Close.rolling(self.SMA_L).mean()\n",
    "        data.dropna(inplace = True)\n",
    "        self.data2 = data\n",
    "        return data\n",
    "    def test_results(self):\n",
    "        data = self.data2.copy().dropna()\n",
    "        data[\"position\"] = np.where(data[\"SMA_S\"]>data[\"SMA_L\"],1,-1)\n",
    "        data[\"strategy\"] = data[\"returns\"]*data.position.shift(1)\n",
    "        \n",
    "        data[\"returnsbh\"] = data[\"returns\"].cumsum().apply(np.exp)\n",
    "        data[\"returnstrategy\"] = data[\"strategy\"].cumsum().apply(np.exp)\n",
    "        \n",
    "        perf = data[\"returnstrategy\"].iloc[-1]\n",
    "        outperf = perf - data[\"returnsbh\"].iloc[-1]\n",
    "        \n",
    "        self.results= data\n",
    "    \n",
    "        ret= np.exp(data[\"strategy\"].sum()) \n",
    "        std = data[\"strategy\"].std()*np.sqrt(252)\n",
    "        \n",
    "        #return ret,std\n",
    "        return round(perf,6), round(outperf,6)\n",
    "    \n",
    "    \n",
    "    def plot_results(self):\n",
    "        if self.results is None:\n",
    "            print(\"Run the test please\")\n",
    "        else:\n",
    "            title = \"{}| SMA_S = {} | SMA_L {}\".format(self.symbol,self.SMA_S,self.SMA_L)\n",
    "            self.results[[\"returnsbh\",\"returnstrategy\"]].plot(title = title, figsize =(12,8))\n",
    "            \n",
    "        \n",
    "        \n",
    "        \n",
    "        "
   ]
  },
  {
   "cell_type": "code",
   "execution_count": 94,
   "id": "30d6bef7",
   "metadata": {},
   "outputs": [
    {
     "name": "stdout",
     "output_type": "stream",
     "text": [
      "[*********************100%***********************]  1 of 1 completed\n"
     ]
    }
   ],
   "source": [
    "tester = SMABacktester(\"SPY\",50,100,\"2000-01-01\",\"2020-01-01\")"
   ]
  },
  {
   "cell_type": "code",
   "execution_count": null,
   "id": "3f1ad7e4",
   "metadata": {},
   "outputs": [],
   "source": []
  },
  {
   "cell_type": "code",
   "execution_count": 95,
   "id": "ec2c37ac",
   "metadata": {},
   "outputs": [
    {
     "data": {
      "text/plain": [
       "(2.634999, 0.337025)"
      ]
     },
     "execution_count": 95,
     "metadata": {},
     "output_type": "execute_result"
    }
   ],
   "source": [
    "tester.test_results()"
   ]
  },
  {
   "cell_type": "code",
   "execution_count": 96,
   "id": "493a30bc",
   "metadata": {},
   "outputs": [
    {
     "data": {
      "image/png": "[encoded data removed]",
      "text/plain": [
       "<Figure size 864x576 with 1 Axes>"
      ]
     },
     "metadata": {
      "needs_background": "light"
     },
     "output_type": "display_data"
    }
   ],
   "source": [
    "tester.plot_results()"
   ]
  },
  {
   "cell_type": "code",
   "execution_count": null,
   "id": "23f6bae7",
   "metadata": {},
   "outputs": [],
   "source": []
  }
 ],
 "metadata": {
  "kernelspec": {
   "display_name": "Python 3 (ipykernel)",
   "language": "python",
   "name": "python3"
  },
  "language_info": {
   "codemirror_mode": {
    "name": "ipython",
    "version": 3
   },
   "file_extension": ".py",
   "mimetype": "text/x-python",
   "name": "python",
   "nbconvert_exporter": "python",
   "pygments_lexer": "ipython3",
   "version": "3.9.7"
  }
 },
 "nbformat": 4,
 "nbformat_minor": 5
}
